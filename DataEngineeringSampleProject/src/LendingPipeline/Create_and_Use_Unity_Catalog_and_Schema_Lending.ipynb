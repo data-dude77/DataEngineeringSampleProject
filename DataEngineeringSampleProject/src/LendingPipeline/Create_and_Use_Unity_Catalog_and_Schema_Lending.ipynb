{
 "cells": [
  {
   "cell_type": "code",
   "execution_count": 0,
   "metadata": {
    "application/vnd.databricks.v1+cell": {
     "cellMetadata": {
      "byteLimit": 2048000,
      "rowLimit": 10000
     },
     "inputWidgets": {},
     "nuid": "c89cb76b-3be5-4dcf-9904-d45f6f165ef0",
     "showTitle": false,
     "tableResultSettingsMap": {},
     "title": ""
    }
   },
   "outputs": [],
   "source": [
    "create_catalog_sql=\"CREATE CATALOG IF NOT EXISTS business\"\n",
    "create_schema_sql=\"CREATE SCHEMA IF NOT EXISTS lending\"\n",
    "spark.sql(create_catalog_sql)\n",
    "spark.sql(create_schema_sql)\n",
    "\n",
    "use_catalog_sql = \"\"\"\n",
    "USE CATALOG business\n",
    "\"\"\"\n",
    "\n",
    "use_schema_sql = \"\"\"\n",
    "USE SCHEMA lending\n",
    "\"\"\"\n",
    "\n",
    "spark.sql(use_catalog_sql)\n",
    "spark.sql(use_schema_sql)"
   ]
  }
 ],
 "metadata": {
  "application/vnd.databricks.v1+notebook": {
   "computePreferences": null,
   "dashboards": [],
   "environmentMetadata": {
    "base_environment": "",
    "environment_version": "4"
   },
   "inputWidgetPreferences": null,
   "language": "python",
   "notebookMetadata": {
    "pythonIndentUnit": 4
   },
   "notebookName": "Create_and_Use_Unity_Catalog_and_Schema_Lending",
   "widgets": {}
  },
  "language_info": {
   "name": "python"
  }
 },
 "nbformat": 4,
 "nbformat_minor": 0
}
