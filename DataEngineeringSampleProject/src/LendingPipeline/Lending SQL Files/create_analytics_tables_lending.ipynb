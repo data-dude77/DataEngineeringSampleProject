{
 "cells": [
  {
   "cell_type": "code",
   "execution_count": 0,
   "metadata": {
    "application/vnd.databricks.v1+cell": {
     "cellMetadata": {
      "byteLimit": 2048000,
      "implicitDf": true,
      "rowLimit": 10000
     },
     "inputWidgets": {},
     "nuid": "8cd71e3d-784d-46cf-b855-7f0ae6c058a4",
     "showTitle": false,
     "tableResultSettingsMap": {},
     "title": ""
    }
   },
   "outputs": [],
   "source": [
    "%sql\n",
    "-- Dimension: Credit Analytics\n",
    "CREATE OR REPLACE TABLE business.lending.silver_dim_credit_analytics(\n",
    "  credit_id STRING,\n",
    "  credit_inq_last_6mths STRING,\n",
    "  credit_open_acc STRING,\n",
    "  credit_pub_rec STRING,\n",
    "  credit_inq_last_12m STRING,\n",
    "  credit_acc_open_past_24mths STRING,\n",
    "  credit_revol_bal STRING,\n",
    "  credit_revol_util STRING,\n",
    "  credit_total_acc STRING,\n",
    "  credit_open_acc_6m STRING,\n",
    "  CONSTRAINT credit_id_pk PRIMARY KEY (credit_id) RELY\n",
    ")\n",
    "CLUSTER BY AUTO -- Use CLUSTER BY AUTO for Databricks-optimized clustering\n",
    "COMMENT \"Table created for analytics purposes\";\n",
    "\n",
    "-- Dimension: Employees Analytics\n",
    "CREATE OR REPLACE TABLE business.lending.silver_dim_employees_analytics(\n",
    "  emp_id STRING,\n",
    "  emp_title STRING,\n",
    "  emp_length STRING,\n",
    "  emp_home_ownership STRING,\n",
    "  emp_annual_inc STRING,\n",
    "  emp_verification_status STRING,\n",
    "  emp_pymnt_plan STRING,\n",
    "  emp_zip_code STRING,\n",
    "  emp_addr_state STRING,\n",
    "  emp_dti STRING,\n",
    "  CONSTRAINT emp_id_pk PRIMARY KEY (emp_id) RELY\n",
    ")\n",
    "CLUSTER BY AUTO -- Use CLUSTER BY AUTO for Databricks-optimized clustering\n",
    "COMMENT \"Table created for analytics purposes\";\n",
    "\n",
    "-- Dimension: Loans Analytics\n",
    "CREATE OR REPLACE TABLE business.lending.silver_dim_loans_analytics(\n",
    "  loan_id STRING,\n",
    "  loan_grade STRING,\n",
    "  loan_sub_grade STRING,\n",
    "  loan_term STRING,\n",
    "  loan_status STRING,\n",
    "  loan_purpose STRING,\n",
    "  loan_title STRING,\n",
    "  loan_delinq_2yrs STRING,\n",
    "  loan_application_type STRING,\n",
    "  CONSTRAINT loan_id_pk PRIMARY KEY (loan_id) RELY\n",
    ")\n",
    "CLUSTER BY AUTO -- Use CLUSTER BY AUTO for Databricks-optimized clustering\n",
    "COMMENT \"Table created for analytics purposes\";\n",
    "\n",
    "-- Dimension: Time Analytics\n",
    "CREATE OR REPLACE TABLE business.lending.silver_dim_time_analytics(\n",
    "  date_id STRING,\n",
    "  date_last_pymnt_d DATE,\n",
    "  date_next_pymnt_d DATE,\n",
    "  date_last_credit_pull_d DATE,\n",
    "  date_earliest_cr_line DATE,\n",
    "  CONSTRAINT date_id_pk PRIMARY KEY (date_id) RELY\n",
    ")\n",
    "CLUSTER BY AUTO -- Use CLUSTER BY AUTO for Databricks-optimized clustering\n",
    "COMMENT \"Table created for analytics purposes\";\n",
    "\n",
    "-- Fact: Sales Transactions\n",
    "CREATE OR REPLACE TABLE business.lending.silver_fact_loan_activity_analytics(\n",
    "  loan_activity_id STRING,\n",
    "  loan_id STRING,\n",
    "  emp_id STRING,\n",
    "  credit_id STRING,\n",
    "  date_id STRING,\n",
    "  loan_amnt DOUBLE,\n",
    "  funded_amnt INT,\n",
    "  funded_amnt_inv DOUBLE,\n",
    "  int_rate DOUBLE,\n",
    "  out_prncp DOUBLE,\n",
    "  out_prncp_inv DOUBLE,\n",
    "  total_pymnt DOUBLE,\n",
    "  total_pymnt_inv DOUBLE,\n",
    "  last_pymnt_amnt DOUBLE,\n",
    "  emp_annual_inc_amnt DOUBLE,\n",
    "  CONSTRAINT loan_activity_id_pk PRIMARY KEY (loan_activity_id) RELY,\n",
    "  CONSTRAINT loan_id_fk\n",
    "    FOREIGN KEY (loan_id) REFERENCES business.lending.silver_dim_loans_analytics (loan_id),\n",
    "  CONSTRAINT emp_id_fk\n",
    "    FOREIGN KEY (emp_id) REFERENCES business.lending.silver_dim_employees_analytics (emp_id),\n",
    "  CONSTRAINT credit_id_fk\n",
    "    FOREIGN KEY (credit_id) REFERENCES business.lending.silver_dim_credit_analytics (credit_id),\n",
    "  CONSTRAINT date_id_fk\n",
    "    FOREIGN KEY (date_id) REFERENCES business.lending.silver_dim_time_analytics (date_id)\n",
    ");"
   ]
  },
  {
   "cell_type": "code",
   "execution_count": 0,
   "metadata": {
    "application/vnd.databricks.v1+cell": {
     "cellMetadata": {
      "byteLimit": 2048000,
      "implicitDf": true,
      "rowLimit": 10000
     },
     "inputWidgets": {},
     "nuid": "8437627b-d51c-41f7-ba49-3ba2f8770644",
     "showTitle": true,
     "tableResultSettingsMap": {},
     "title": "Populate Tables"
    }
   },
   "outputs": [],
   "source": [
    "%sql\n",
    "INSERT INTO business.lending.silver_dim_credit_analytics\n",
    "  SELECT\n",
    "    *\n",
    "  FROM\n",
    "    business.lending.silver_dim_credit;\n",
    "\n",
    "INSERT INTO business.lending.silver_dim_employees_analytics\n",
    "  SELECT\n",
    "    *\n",
    "  FROM\n",
    "    business.lending.silver_dim_employees;\n",
    "\n",
    "INSERT INTO business.lending.silver_dim_loans_analytics\n",
    "  SELECT\n",
    "    *\n",
    "  FROM\n",
    "    business.lending.silver_dim_loans;\n",
    "\n",
    "INSERT INTO business.lending.silver_dim_time_analytics\n",
    "  SELECT\n",
    "    *\n",
    "  FROM\n",
    "    business.lending.silver_dim_time;\n",
    "\n",
    "INSERT INTO business.lending.silver_fact_loan_activity_analytics\n",
    "  SELECT\n",
    "    *\n",
    "  FROM\n",
    "    business.lending.silver_fact_loan_activity;"
   ]
  }
 ],
 "metadata": {
  "application/vnd.databricks.v1+notebook": {
   "computePreferences": {
    "hardware": {
     "accelerator": null,
     "gpuPoolId": null,
     "memory": null
    }
   },
   "dashboards": [],
   "environmentMetadata": {
    "base_environment": "",
    "environment_version": "3"
   },
   "inputWidgetPreferences": null,
   "language": "python",
   "notebookMetadata": {
    "mostRecentlyExecutedCommandWithImplicitDF": {
     "commandId": 3771715205070928,
     "dataframes": [
      "_sqldf"
     ]
    },
    "pythonIndentUnit": 4
   },
   "notebookName": "create_analytics_tables_lending",
   "widgets": {}
  },
  "language_info": {
   "name": "python"
  }
 },
 "nbformat": 4,
 "nbformat_minor": 0
}
