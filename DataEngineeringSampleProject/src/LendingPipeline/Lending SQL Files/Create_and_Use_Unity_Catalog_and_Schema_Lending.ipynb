{
 "cells": [
  {
   "cell_type": "code",
   "execution_count": 0,
   "metadata": {
    "application/vnd.databricks.v1+cell": {
     "cellMetadata": {
      "byteLimit": 2048000,
      "rowLimit": 10000
     },
     "inputWidgets": {},
     "nuid": "c89cb76b-3be5-4dcf-9904-d45f6f165ef0",
     "showTitle": false,
     "tableResultSettingsMap": {},
     "title": ""
    }
   },
   "outputs": [],
   "source": [
    "create_catalog_sql=\"CREATE CATALOG IF NOT EXISTS business\"\n",
    "create_schema_sql=\"CREATE SCHEMA IF NOT EXISTS lending\"\n",
    "spark.sql(create_catalog_sql)\n",
    "spark.sql(create_schema_sql)\n",
    "\n",
    "use_catalog_sql = \"\"\"\n",
    "USE CATALOG business\n",
    "\"\"\"\n",
    "\n",
    "use_schema_sql = \"\"\"\n",
    "USE SCHEMA lending\n",
    "\"\"\"\n",
    "\n",
    "spark.sql(use_catalog_sql)\n",
    "spark.sql(use_schema_sql)"
   ]
  },
  {
   "cell_type": "code",
   "execution_count": 0,
   "metadata": {
    "application/vnd.databricks.v1+cell": {
     "cellMetadata": {
      "byteLimit": 2048000,
      "implicitDf": true,
      "rowLimit": 10000
     },
     "inputWidgets": {},
     "nuid": "eba14edf-d360-4812-9411-4659c384cc27",
     "showTitle": false,
     "tableResultSettingsMap": {},
     "title": ""
    }
   },
   "outputs": [],
   "source": [
    "%sql\n",
    "DROP TABLE IF EXISTS business.lending.silver_dim_credit_analytics;\n",
    "\n",
    "DROP TABLE IF EXISTS business.lending.silver_dim_employees_analytics;\n",
    "\n",
    "DROP TABLE IF EXISTS business.lending.silver_dim_loans_analytics;\n",
    "\n",
    "DROP TABLE IF EXISTS business.lending.silver_dim_time_analytics;\n",
    "\n",
    "DROP TABLE IF EXISTS business.lending.silver_fact_loan_activity_analytics;\n",
    "\n",
    "DROP TABLE IF EXISTS business.lending.bronze_streaming_table;\n",
    "\n",
    "DROP TABLE IF EXISTS business.lending.gold_employee_credit_info;\n",
    "\n",
    "DROP TABLE IF EXISTS business.lending.gold_employee_employee_time_and_loan_activity;\n",
    "\n",
    "DROP TABLE IF EXISTS business.lending.gold_employee_loan_activity;\n",
    "\n",
    "DROP TABLE IF EXISTS business.lending.gold_employee_loans;\n",
    "\n",
    "DROP TABLE IF EXISTS business.lending.gold_loans_and_activity_info;\n",
    "\n",
    "DROP TABLE IF EXISTS business.lending.silver_dim_credit;\n",
    "\n",
    "DROP TABLE IF EXISTS business.lending.silver_dim_employees;\n",
    "\n",
    "DROP TABLE IF EXISTS business.lending.silver_dim_loans;\n",
    "\n",
    "DROP TABLE IF EXISTS business.lending.silver_dim_time;\n",
    "\n",
    "DROP TABLE IF EXISTS business.lending.silver_fact_loan_activity;\n",
    "\n",
    "DROP TABLE IF EXISTS business.lending.silver_unique_ids"
   ]
  }
 ],
 "metadata": {
  "application/vnd.databricks.v1+notebook": {
   "computePreferences": {
    "hardware": {
     "accelerator": null,
     "gpuPoolId": null,
     "memory": null
    }
   },
   "dashboards": [],
   "environmentMetadata": {
    "base_environment": "",
    "environment_version": "4"
   },
   "inputWidgetPreferences": null,
   "language": "python",
   "notebookMetadata": {
    "mostRecentlyExecutedCommandWithImplicitDF": {
     "commandId": 6113333940172277,
     "dataframes": [
      "_sqldf"
     ]
    },
    "pythonIndentUnit": 4
   },
   "notebookName": "Create_and_Use_Unity_Catalog_and_Schema_Lending",
   "widgets": {}
  },
  "language_info": {
   "name": "python"
  }
 },
 "nbformat": 4,
 "nbformat_minor": 0
}
