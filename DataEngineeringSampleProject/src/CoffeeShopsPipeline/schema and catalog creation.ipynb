{
 "cells": [
  {
   "cell_type": "code",
   "execution_count": 0,
   "metadata": {
    "application/vnd.databricks.v1+cell": {
     "cellMetadata": {},
     "inputWidgets": {},
     "nuid": "9c0deb0d-d6e0-4b2f-8dbe-2bb49437eb2b",
     "showTitle": false,
     "tableResultSettingsMap": {},
     "title": ""
    }
   },
   "outputs": [],
   "source": [
    "create_catalog_sql = \"CREATE CATALOG IF NOT EXISTS business\"\n",
    "create_schema_sql = \"CREATE SCHEMA IF NOT EXISTS business.coffee_shops\"\n",
    "spark.sql(create_catalog_sql)\n",
    "spark.sql(create_schema_sql)\n",
    "\n",
    "\n",
    "use_catalog_sql = \"\"\"\n",
    "USE CATALOG business\n",
    "\"\"\"\n",
    "\n",
    "use_schema_sql = \"\"\"\n",
    "USE SCHEMA coffee_shops\n",
    "\"\"\"\n",
    "\n",
    "spark.sql(use_catalog_sql)\n",
    "spark.sql(use_schema_sql)"
   ]
  },
  {
   "cell_type": "code",
   "execution_count": 0,
   "metadata": {
    "application/vnd.databricks.v1+cell": {
     "cellMetadata": {},
     "inputWidgets": {},
     "nuid": "0e709a1e-8c5b-4c0e-92dd-4a80820d05f4",
     "showTitle": false,
     "tableResultSettingsMap": {},
     "title": ""
    }
   },
   "outputs": [],
   "source": [
    "%sql\n",
    "DROP TABLE IF EXISTS business.coffee_shops.customer_class;\n",
    "\n",
    "DROP TABLE IF EXISTS business.coffee_shops.dim_customers;\n",
    "\n",
    "DROP TABLE IF EXISTS business.coffee_shops.dim_customers_analytics;\n",
    "\n",
    "DROP TABLE IF EXISTS business.coffee_shops.dim_franchises;\n",
    "\n",
    "DROP TABLE IF EXISTS business.coffee_shops.dim_franchises_analytics;\n",
    "\n",
    "DROP TABLE IF EXISTS business.coffee_shops.dim_suppliers;\n",
    "\n",
    "DROP TABLE IF EXISTS business.coffee_shops.dim_suppliers_analytics;\n",
    "\n",
    "DROP TABLE IF EXISTS business.coffee_shops.fact_sales_transactions;\n",
    "\n",
    "DROP TABLE IF EXISTS business.coffee_shops.fact_sales_transactions_analytics;\n",
    "\n",
    "DROP TABLE IF EXISTS business.coffee_shops.raw_data_streaming_table;\n",
    "\n",
    "DROP TABLE IF EXISTS business.coffee_shops.raw_data_table;\n",
    "\n",
    "DROP TABLE IF EXISTS business.coffee_shops.supplier_franchise_proximity"
   ]
  }
 ],
 "metadata": {
  "application/vnd.databricks.v1+notebook": {
   "computePreferences": {
    "hardware": {
     "accelerator": null,
     "gpuPoolId": null,
     "memory": null
    }
   },
   "dashboards": [],
   "environmentMetadata": {
    "base_environment": "",
    "environment_version": "3"
   },
   "inputWidgetPreferences": null,
   "language": "python",
   "notebookMetadata": {
    "pythonIndentUnit": 4
   },
   "notebookName": "schema and catalog creation",
   "widgets": {}
  },
  "language_info": {
   "name": "python"
  }
 },
 "nbformat": 4,
 "nbformat_minor": 0
}
