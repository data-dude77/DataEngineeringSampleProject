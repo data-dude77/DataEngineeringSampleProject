{
 "cells": [
  {
   "cell_type": "code",
   "execution_count": 0,
   "metadata": {
    "application/vnd.databricks.v1+cell": {
     "cellMetadata": {
      "byteLimit": 2048000,
      "implicitDf": true,
      "rowLimit": 10000
     },
     "inputWidgets": {},
     "nuid": "8cd71e3d-784d-46cf-b855-7f0ae6c058a4",
     "showTitle": false,
     "tableResultSettingsMap": {},
     "title": ""
    }
   },
   "outputs": [],
   "source": [
    "%sql\n",
    "-- Dimension: Customers Analytics\n",
    "CREATE OR REPLACE TABLE business.coffee_shops.dim_customers_analytics(\n",
    "  customerID BIGINT,\n",
    "  first_name STRING,\n",
    "  last_name STRING,\n",
    "  email_address STRING,\n",
    "  address STRING,\n",
    "  phone_number STRING,\n",
    "  customer_city STRING,\n",
    "  customer_state STRING,\n",
    "  customer_country STRING,\n",
    "  customer_continent STRING,\n",
    "  customer_zipcode STRING,\n",
    "  gender STRING,\n",
    "  CONSTRAINT customer_id_pk PRIMARY KEY (customerID) RELY\n",
    ");\n",
    "\n",
    "-- Dimension: Suppliers Analytics\n",
    "CREATE OR REPLACE TABLE business.coffee_shops.dim_suppliers_analytics(\n",
    "  supplierID BIGINT,\n",
    "  supplier_name STRING,\n",
    "  ingredient STRING,\n",
    "  approved STRING,\n",
    "  supplier_city STRING,\n",
    "  supplier_district STRING,\n",
    "  supplier_size STRING,\n",
    "  supplier_continent STRING,\n",
    "  supplier_longitude DOUBLE,\n",
    "  supplier_latitude DOUBLE,\n",
    "  ingredient_type STRING,\n",
    "  CONSTRAINT supplier_id_pk PRIMARY KEY (supplierID) RELY\n",
    ");\n",
    "\n",
    "-- Dimension: Franchises\n",
    "CREATE OR REPLACE TABLE business.coffee_shops.dim_franchises_analytics(\n",
    "  franchiseID BIGINT,\n",
    "  supplierID BIGINT,\n",
    "  franchise_name STRING,\n",
    "  franchise_city STRING,\n",
    "  franchise_size STRING,\n",
    "  franchise_district STRING,\n",
    "  franchise_zipcode STRING,\n",
    "  franchise_country STRING,\n",
    "  franchise_longitude DOUBLE,\n",
    "  franchise_latitude DOUBLE,\n",
    "  CONSTRAINT franchise_id_pk PRIMARY KEY (franchiseID) RELY,\n",
    "  CONSTRAINT supplier_id_fk\n",
    "    FOREIGN KEY (supplierID) REFERENCES business.coffee_shops.dim_suppliers_analytics (supplierID)\n",
    ");\n",
    "\n",
    "-- Fact: Sales Transactions\n",
    "CREATE OR REPLACE TABLE business.coffee_shops.fact_sales_transactions_analytics(\n",
    "  transactionID BIGINT,\n",
    "  franchiseID BIGINT,\n",
    "  customerID BIGINT,\n",
    "  dateTime TIMESTAMP,\n",
    "  product STRING,\n",
    "  quantity INT,\n",
    "  unitPrice DOUBLE,\n",
    "  totalPrice DOUBLE,\n",
    "  paymentMethod STRING,\n",
    "  cardNumber BIGINT,\n",
    "  QuantityClass STRING,\n",
    "  CONSTRAINT transaction_id_pk PRIMARY KEY (transactionID) RELY,\n",
    "  CONSTRAINT franchise_id_fk\n",
    "    FOREIGN KEY (franchiseID) REFERENCES business.coffee_shops.dim_franchises_analytics (\n",
    "        franchiseID\n",
    "      ),\n",
    "  CONSTRAINT customer_id_fk\n",
    "    FOREIGN KEY (customerID) REFERENCES business.coffee_shops.dim_customers_analytics (customerID)\n",
    ");"
   ]
  },
  {
   "cell_type": "code",
   "execution_count": 0,
   "metadata": {
    "application/vnd.databricks.v1+cell": {
     "cellMetadata": {
      "byteLimit": 2048000,
      "implicitDf": true,
      "rowLimit": 10000
     },
     "inputWidgets": {},
     "nuid": "8437627b-d51c-41f7-ba49-3ba2f8770644",
     "showTitle": true,
     "tableResultSettingsMap": {},
     "title": "Populate Tables"
    }
   },
   "outputs": [],
   "source": [
    "%sql\n",
    "INSERT INTO business.coffee_shops.dim_customers_analytics\n",
    "  SELECT\n",
    "    *\n",
    "  FROM\n",
    "    business.coffee_shops.dim_customers;\n",
    "\n",
    "INSERT INTO business.coffee_shops.dim_suppliers_analytics\n",
    "  SELECT\n",
    "    *\n",
    "  FROM\n",
    "    business.coffee_shops.dim_suppliers;\n",
    "\n",
    "INSERT INTO business.coffee_shops.dim_franchises_analytics\n",
    "  SELECT\n",
    "    *\n",
    "  FROM\n",
    "    business.coffee_shops.dim_franchises;\n",
    "\n",
    "INSERT INTO business.coffee_shops.fact_sales_transactions_analytics\n",
    "  SELECT\n",
    "    *\n",
    "  FROM\n",
    "    business.coffee_shops.fact_sales_transactions;"
   ]
  }
 ],
 "metadata": {
  "application/vnd.databricks.v1+notebook": {
   "computePreferences": {
    "hardware": {
     "accelerator": null,
     "gpuPoolId": null,
     "memory": null
    }
   },
   "dashboards": [],
   "environmentMetadata": {
    "base_environment": "",
    "environment_version": "3"
   },
   "inputWidgetPreferences": null,
   "language": "python",
   "notebookMetadata": {
    "mostRecentlyExecutedCommandWithImplicitDF": {
     "commandId": 5246808319942904,
     "dataframes": [
      "_sqldf"
     ]
    },
    "pythonIndentUnit": 4
   },
   "notebookName": "create_analytics_tables",
   "widgets": {}
  },
  "language_info": {
   "name": "python"
  }
 },
 "nbformat": 4,
 "nbformat_minor": 0
}
