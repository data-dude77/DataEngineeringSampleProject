{
 "cells": [
  {
   "cell_type": "code",
   "execution_count": 0,
   "metadata": {
    "application/vnd.databricks.v1+cell": {
     "cellMetadata": {},
     "inputWidgets": {},
     "nuid": "2c7aebaf-f6ae-44e6-a8b3-b83665de363f",
     "showTitle": false,
     "tableResultSettingsMap": {},
     "title": ""
    }
   },
   "outputs": [],
   "source": [
    "%sql\n",
    "CREATE OR REPLACE TABLE business.coffee_shops.raw_data_table(\n",
    "   transactionID BIGINT,\n",
    "  franchiseID BIGINT,\n",
    "  customerID BIGINT,\n",
    "  dateTime TIMESTAMP,\n",
    "  product STRING,\n",
    "  quantity INT,\n",
    "  unitPrice DOUBLE,\n",
    "  totalPrice DOUBLE,\n",
    "  paymentMethod STRING,\n",
    "  cardNumber BIGINT,\n",
    "  QuantityClass STRING,\n",
    "  first_name STRING,\n",
    "  last_name STRING,\n",
    "  email_address STRING,\n",
    "  address STRING,\n",
    "  phone_number STRING,\n",
    "  customer_city STRING,\n",
    "  customer_state STRING,\n",
    "  customer_country STRING,\n",
    "  customer_continent STRING,\n",
    "  customer_zipcode STRING,\n",
    "  gender STRING,\n",
    "  supplierID BIGINT,\n",
    "  franchise_name STRING,\n",
    "  franchise_city STRING,\n",
    "  franchise_size STRING,\n",
    "  franchise_district STRING,\n",
    "  franchise_zipcode STRING,\n",
    "  franchise_country STRING,\n",
    "  franchise_longitude DOUBLE,\n",
    "  franchise_latitude DOUBLE,\n",
    "  supplier_name STRING,\n",
    "  ingredient STRING,\n",
    "  approved STRING,\n",
    "  supplier_city STRING,\n",
    "  supplier_district STRING,\n",
    "  supplier_size STRING,\n",
    "  supplier_continent STRING,\n",
    "  supplier_longitude DOUBLE,\n",
    "  supplier_latitude DOUBLE,\n",
    "  ingredient_type STRING\n",
    " \n",
    ")\n",
    "\n",
    "COMMENT \"Raw Data Table for New Data Ingestion\";"
   ]
  },
  {
   "cell_type": "code",
   "execution_count": 0,
   "metadata": {
    "application/vnd.databricks.v1+cell": {
     "cellMetadata": {},
     "inputWidgets": {},
     "nuid": "7dcf2828-9da5-4900-bc75-bbf4b4095e14",
     "showTitle": false,
     "tableResultSettingsMap": {},
     "title": ""
    }
   },
   "outputs": [],
   "source": [
    "%sql\n",
    "INSERT INTO business.coffee_shops.raw_data_table\n",
    "  SELECT\n",
    "    *\n",
    "  FROM\n",
    "    business.coffee_shops.raw_data_view;"
   ]
  },
  {
   "cell_type": "code",
   "execution_count": 0,
   "metadata": {
    "application/vnd.databricks.v1+cell": {
     "cellMetadata": {},
     "inputWidgets": {},
     "nuid": "653654f0-3ecf-4cd2-94bd-6c1e9851ea59",
     "showTitle": false,
     "tableResultSettingsMap": {},
     "title": ""
    }
   },
   "outputs": [],
   "source": [
    "# table_exists=utils.does_table_exist(spark,\"business.coffee_shops.raw_data_table\")\n",
    "\n",
    "# if table_exists:\n",
    "#     drop_raw_data_view_sql=\"\"\"\n",
    "#     DROP TABLE IF EXISTS business.coffee_shops.raw_data_view\n",
    "#     \"\"\"\n",
    "#     spark.sql(drop_raw_data_view_sql)\n",
    "# else:\n",
    "#     pass\n",
    "\n"
   ]
  }
 ],
 "metadata": {
  "application/vnd.databricks.v1+notebook": {
   "computePreferences": {
    "hardware": {
     "accelerator": null,
     "gpuPoolId": null,
     "memory": null
    }
   },
   "dashboards": [],
   "environmentMetadata": {
    "base_environment": "",
    "environment_version": "3"
   },
   "inputWidgetPreferences": null,
   "language": "python",
   "notebookMetadata": {
    "pythonIndentUnit": 4
   },
   "notebookName": "create_raw_data_table",
   "widgets": {}
  },
  "language_info": {
   "name": "python"
  }
 },
 "nbformat": 4,
 "nbformat_minor": 0
}
