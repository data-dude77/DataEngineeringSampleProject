{
 "cells": [
  {
   "cell_type": "code",
   "execution_count": 0,
   "metadata": {
    "application/vnd.databricks.v1+cell": {
     "cellMetadata": {},
     "inputWidgets": {},
     "nuid": "004f5e2f-61f3-4b55-9cc3-fc91115c1251",
     "showTitle": false,
     "tableResultSettingsMap": {},
     "title": ""
    }
   },
   "outputs": [],
   "source": [
    "%sql\n",
    "INSERT INTO business.coffee_shops.raw_data_table(\n",
    "  supplierID, franchiseID, customerID, transactionID, dateTime, product, quantity, unitPrice, totalPrice, paymentMethod, cardNumber, first_name, last_name, email_address, phone_number, address, customer_city, customer_state, customer_country, customer_continent, customer_zipcode, gender, franchise_name, franchise_city, franchise_district, franchise_zipcode, franchise_country, franchise_size, franchise_longitude, franchise_latitude, supplier_name, ingredient, supplier_continent, supplier_city, supplier_district, supplier_size, supplier_longitude, supplier_latitude, approved\n",
    ")\n",
    "VALUES \n",
    "      ('5000047', '8000047', '9001850', '7000550', '2025-09-20T19:45:56.898614', 'Tokyo Tidbits', 36, 3, 108, 'mastercard', '6518735370326533', 'Alison', 'Parks', 'serranoanthony@example.org', '+1-776-889-5389x203', '9951 Andrea Union', 'North Racheltown', 'Nevada', 'Paraguay', 'Europe', '15155', 'Female', 'Sweet Tasties', 'Stockholm', 'Sodermalm', '116 45', 'Sweden', 'S', '18.072', '59.314', 'Holt, Aguirre and Douglas', 'Ginger', 'Europe', 'West Austin', 'Virginia', 'M', 13.592, 57.162, 'Yes'),\n",
    "('6000047', '9000047', '10001851', '8000551', '2025-09-25T19:45:56.898338', 'Pearly Pies', 33, 3, 99, 'mastercard', '2250337182053909', 'Alexis', 'Castillo', 'kimberly41@example.org', '719.415.2892', '54635 Pace Trace', 'Walkerville', 'Kansas', 'Sudan', 'Europe', '12379', 'Male', 'Sweet Delights', 'Stockholm', 'Sodermalm', '116 45', 'Sweden', 'S', '18.072', '59.314', 'Murphy Inc', 'Pie Crust', 'Europe', 'Port Samanthaton', 'Nevada', 'L', 13.817, 50.535, 'No'),\n",
    "('7000047', '1000047', '11001852', '900552', '2025-09-29T19:45:56.898949', 'Pearly Pies', 23, 3, 69, 'visa', '3519637987293054', 'Patrick', 'Weaver', 'vwilson@example.org', '768-538-8268x325', '40499 Ashley Passage Suite 650', 'Hannahborough', 'New Mexico', 'Zambia', 'Europe', '47581', 'Female', 'Sweet Delights', 'Stockholm', 'Sodermalm', '116 45', 'Sweden', 'S', '18.072', '59.314', 'Allen Group', 'Ginger', 'Europe', 'West Beverlyborough', 'North Carolina', 'M', 12.797, 55.682, 'Yes'),\n",
    "('8000047', '11000047', '13001853', '1100553', '2025-09-20T19:45:56.898570', 'Austin Almond Biscotti', 25, 3, 75, 'mastercard', '4153147151172', 'Joel', 'Elliott', 'ronald34@example.net', '274-914-9808x718', '456 King Ridges', 'Hendersonfurt', 'Nevada', 'Slovenia', 'Europe', '76629', 'Male', 'Sweet Delights', 'Stockholm', 'Sodermalm', '116 45', 'Sweden', 'S', '18.072', '59.314', 'Smith, Kim and Carter', 'Ginger', 'Europe', 'New Donald', 'Virginia', 'S', 19.277, 59.138, 'No'),\n",
    "('9000047', '1300047', '14001854', '5500554', '2025-09-29T19:45:56.898245', 'Outback Oatmeal', 36, 3, 108, 'visa', '3506857471931051', 'Stephen', 'Mcintosh', 'timothy39@example.net', '411.824.9328x623', '5177 Angela Green', 'East Heatherfort', 'Utah', 'Anguilla', 'Europe', '08921', 'Male', 'Sweet Delights', 'Stockholm', 'Sodermalm', '116 45', 'Sweden', 'S', '18.072', '59.314', 'Price-Walsh', 'Almond', 'Europe', 'West Debraland', 'Rhode Island', 'M', 10.397, 58.317, 'No'),\n",
    "('4000047', '3000047', '2001855', '1000555', '2025-09-30T19:45:56.898589', 'Pearly Pies', 40, 3, 120, 'amex', '213116558601354', 'Jacqueline', 'Marks', 'hmullins@example.org', '6136987263', '49403 Tanner Streets Suite 052', 'Charlesview', 'North Carolina', 'United States Virgin Islands', 'Europe', '06105', 'Male', 'Sweet Delights', 'Stockholm', 'Sodermalm', '116 45', 'Sweden', 'S', '18.072', '59.314', 'Lloyd LLC', 'Oatmeal', 'Europe', 'South Ashleyborough', 'Wyoming', 'M', 10.499, 59.781, 'No'),\n",
    "('4000047', '3000047', '2001856', '1000556', '2025-09-29T19:45:56.898862', 'Outback Oatmeal', 37, 3, 111, 'visa', '3530168564098182', 'Angela', 'Smith', 'jessicacoleman@example.org', '001-325-465-3675x9909', '142 Meza Common Apt. 176', 'South Michaelview', 'Montana', 'Turks and Caicos Islands', 'Europe', '28632', 'Female', 'Sweet Delights', 'Stockholm', 'Sodermalm', '116 45', 'Sweden', 'S', '18.072', '59.314', 'English-Rhodes', 'Almond', 'Europe', 'Joshuaside', 'Indiana', 'L', 19.081, 56.253, 'Yes'),\n",
    "('4000047', '3000047', '2001857', '1000557', '2025-09-24T19:45:56.898695', 'Golden Gate Ginger', 24, 3, 72, 'visa', '676126107751', 'Alexandria', 'Sanchez', 'lauraevans@example.org', '+1-855-459-6853x81919', '283 Grant Hollow', 'Michaelfort', 'Rhode Island', 'Brazil', 'Europe', '75197', 'Female', 'Sweet Spicies', 'Stockholm', 'Sodermalm', '116 45', 'Sweden', 'S', '18.072', '59.314', 'Gill LLC', 'Ginger', 'Europe', 'Port Sherrifort', 'Montana', 'L', 13.572, 57.787, 'No'),\n",
    "('4000047', '3000047', '2001858', '1000558', '2025-09-28T19:45:56.898168', 'Golden Gate Ginger', 23, 3, 69, 'mastercard', '6011607550869859', 'Edward', 'Velasquez', 'andrewsandre@example.net', '913-597-2165', '0888 Antonio Estate', 'Bruceside', 'Vermont', 'Montserrat', 'Europe', '37973', 'Female', 'Sweet Delights', 'Stockholm', 'Sodermalm', '116 45', 'Sweden', 'S', '18.072', '59.314', 'Alexander, Montes and Medina', 'Oatmeal', 'Europe', 'East Derrickborough', 'Oklahoma', 'S', 11.124, 54.278, 'Yes'),\n",
    "('4000047', '3000047', '2001859', '1000559', '2025-09-21T19:45:56.898299', 'Outback Oatmeal', 29, 3, 87, 'amex', '30139289283517', 'Julie', 'Chapman', 'katherine18@example.org', '279-863-9157', '32131 Walker Crossroad Apt. 215', 'South Jessica', 'South Carolina', 'Russian Federation', 'Europe', '37570', 'Male', 'Sweet Delights', 'Stockholm', 'Sodermalm', '116 45', 'Sweden', 'S', '18.072', '59.314', 'Diaz-Johnson', 'Oatmeal', 'Europe', 'Port Matthewland', 'Vermont', 'S', 13.935, 54.741, 'No');\n",
    "  \n"
   ]
  }
 ],
 "metadata": {
  "application/vnd.databricks.v1+notebook": {
   "computePreferences": {
    "hardware": {
     "accelerator": null,
     "gpuPoolId": null,
     "memory": null
    }
   },
   "dashboards": [],
   "environmentMetadata": {
    "base_environment": "",
    "environment_version": "3"
   },
   "inputWidgetPreferences": null,
   "language": "python",
   "notebookMetadata": {
    "pythonIndentUnit": 4
   },
   "notebookName": "add_new_data",
   "widgets": {}
  },
  "language_info": {
   "name": "python"
  }
 },
 "nbformat": 4,
 "nbformat_minor": 0
}
