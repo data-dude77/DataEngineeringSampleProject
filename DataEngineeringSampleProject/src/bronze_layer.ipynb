{
 "cells": [
  {
   "cell_type": "markdown",
   "metadata": {
    "application/vnd.databricks.v1+cell": {
     "cellMetadata": {},
     "inputWidgets": {},
     "nuid": "680b6383-1925-4324-b9e6-6b55cd75758d",
     "showTitle": false,
     "tableResultSettingsMap": {},
     "title": ""
    }
   },
   "source": [
    "\n",
    "### Purpose\n",
    "\n",
    "This is notebook will house the creation of the raw dataset to be used further down the pipeline. No tranformations/manipultaion of the data except a join to create the raw dataset\n",
    "\n",
    "### Table Details\n",
    "\n",
    "This table entails information on the business ecosystem of coffee shops"
   ]
  },
  {
   "cell_type": "code",
   "execution_count": 0,
   "metadata": {
    "application/vnd.databricks.v1+cell": {
     "cellMetadata": {
      "byteLimit": 2048000,
      "rowLimit": 10000
     },
     "inputWidgets": {},
     "nuid": "533206d4-8060-4424-a103-6b562b9fa599",
     "showTitle": false,
     "tableResultSettingsMap": {},
     "title": ""
    }
   },
   "outputs": [],
   "source": [
    "import pyspark.sql.functions as F\n"
   ]
  },
  {
   "cell_type": "code",
   "execution_count": 0,
   "metadata": {
    "application/vnd.databricks.v1+cell": {
     "cellMetadata": {
      "byteLimit": 2048000,
      "rowLimit": 10000
     },
     "inputWidgets": {},
     "nuid": "52d86c3b-ffbd-4efb-950f-e051d53ad708",
     "showTitle": true,
     "tableResultSettingsMap": {},
     "title": "Create Catalog"
    }
   },
   "outputs": [],
   "source": [
    "create_catalog = \"CREATE CATALOG IF NOT EXISTS business\"\n",
    "use_catalog = \"USE CATALOG business\"\n",
    "spark.sql(create_catalog)\n",
    "spark.sql(use_catalog)"
   ]
  },
  {
   "cell_type": "code",
   "execution_count": 0,
   "metadata": {
    "application/vnd.databricks.v1+cell": {
     "cellMetadata": {
      "byteLimit": 2048000,
      "rowLimit": 10000
     },
     "inputWidgets": {},
     "nuid": "5b954c53-5f8c-4b21-9624-bc6673eff707",
     "showTitle": true,
     "tableResultSettingsMap": {},
     "title": "Create Schema/Database"
    }
   },
   "outputs": [],
   "source": [
    "create_schema_sql = \"CREATE SCHEMA IF NOT EXISTS coffee_stores\"\n",
    "use_schema_sql = \"USE SCHEMA coffee_stores\"\n",
    "spark.sql(create_schema_sql)\n",
    "spark.sql(use_schema_sql)"
   ]
  }
 ],
 "metadata": {
  "application/vnd.databricks.v1+notebook": {
   "computePreferences": null,
   "dashboards": [],
   "environmentMetadata": {
    "base_environment": "",
    "environment_version": "3"
   },
   "inputWidgetPreferences": null,
   "language": "python",
   "notebookMetadata": {
    "pythonIndentUnit": 4
   },
   "notebookName": "bronze_layer",
   "widgets": {}
  },
  "language_info": {
   "name": "python"
  }
 },
 "nbformat": 4,
 "nbformat_minor": 0
}
